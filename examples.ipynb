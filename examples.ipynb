{
 "cells": [
  {
   "cell_type": "code",
   "execution_count": 3,
   "id": "d659b989-3e26-47fe-b0e9-eabc091e7b09",
   "metadata": {},
   "outputs": [
    {
     "data": {
      "text/plain": [
       "<module 'activation_extractor' from '/orfeo/cephfs/scratch/area/evillegas/glm/activation-extractor/src/activation_extractor/__init__.py'>"
      ]
     },
     "execution_count": 3,
     "metadata": {},
     "output_type": "execute_result"
    }
   ],
   "source": [
    "import os \n",
    "import sys\n",
    "from importlib import reload\n",
    "\n",
    "# Import Pytorch & Huggingface ==========================\n",
    "#set cache dir before imports \n",
    "from configuration import huggingface_path as cache_dir\n",
    "#cache_dir = cache_path_here\n",
    "os.environ['HF_HOME'] = f\"{cache_dir}/huggingface\"\n",
    "os.environ['TRANSFORMERS_CACHE']= f\"{cache_dir}/huggingface/hub\"\n",
    "os.environ['TORCH_HOME']= f\"{cache_dir}/torch\"\n",
    "os.environ['XDG_CACHE_HOME']= cache_dir\n",
    "\n",
    "#imports \n",
    "import torch\n",
    "from torch.cuda import memory_allocated, empty_cache\n",
    "from datasets import load_dataset\n",
    "from torch.utils.data import DataLoader\n",
    "\n",
    "# Import local functions ==================================\n",
    "import activation_extractor\n",
    "reload(activation_extractor)"
   ]
  },
  {
   "cell_type": "code",
   "execution_count": null,
   "id": "4e64923d-b5fe-4255-bab9-560fb126b132",
   "metadata": {},
   "outputs": [],
   "source": [
    "#install editable version of this repository\n",
    "#!python -m pip install -e ."
   ]
  },
  {
   "cell_type": "code",
   "execution_count": null,
   "id": "049ffd11-5067-4722-ab47-f56ebe585b57",
   "metadata": {},
   "outputs": [],
   "source": [
    "#load data\n",
    "sequences = [\"AAAAAAAAAAA\", \"HHHHHHHHHHHHHH\"]"
   ]
  },
  {
   "cell_type": "code",
   "execution_count": null,
   "id": "d409ed43-3cc5-4d1f-a63a-f4431501bcaf",
   "metadata": {},
   "outputs": [],
   "source": [
    "#load model\n",
    "model_name = \"facebook/esm2_t6_8M_UR50D\" \n",
    "inferencer = activation_extractor.inferencer.Inferencer(model_name, device='cuda', half=False)"
   ]
  },
  {
   "cell_type": "code",
   "execution_count": null,
   "id": "a14baeea-78bf-4810-9e75-3b3c7cabeea4",
   "metadata": {},
   "outputs": [],
   "source": [
    "#intermediate activation extractor\n",
    "#ESM\n",
    "layers_to_hook = get_layers_to_hook(inferencer.model,inferencer.model_type)\n",
    "extractor = IntermediateExtractor(inferencer.model, inferencer.tokenizer, layers_to_hook)\n",
    "extractor.register_hooks()\n",
    "\n",
    "#inference\n",
    "tokens_ids = inferencer.tokenize(sequences)\n",
    "outputs = inferencer.inference(tokens_ids)\n",
    "\n",
    "#extractor outputs\n",
    "#extractor.save_outputs('results/embeddings/test')\n",
    "extractor.clear_all_hooks()"
   ]
  }
 ],
 "metadata": {
  "kernelspec": {
   "display_name": "Python 3 (ipykernel)",
   "language": "python",
   "name": "python3"
  },
  "language_info": {
   "codemirror_mode": {
    "name": "ipython",
    "version": 3
   },
   "file_extension": ".py",
   "mimetype": "text/x-python",
   "name": "python",
   "nbconvert_exporter": "python",
   "pygments_lexer": "ipython3",
   "version": "3.12.3"
  }
 },
 "nbformat": 4,
 "nbformat_minor": 5
}
